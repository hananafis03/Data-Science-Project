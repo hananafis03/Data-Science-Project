{
  "nbformat": 4,
  "nbformat_minor": 0,
  "metadata": {
    "colab": {
      "provenance": [],
      "authorship_tag": "ABX9TyMbO2heYQIx4svG4H/1sZYZ",
      "include_colab_link": true
    },
    "kernelspec": {
      "name": "python3",
      "display_name": "Python 3"
    },
    "language_info": {
      "name": "python"
    }
  },
  "cells": [
    {
      "cell_type": "markdown",
      "metadata": {
        "id": "view-in-github",
        "colab_type": "text"
      },
      "source": [
        "<a href=\"https://colab.research.google.com/github/hananafis03/Data-Science-Project/blob/main/Amazon_Data_Analysis.ipynb\" target=\"_parent\"><img src=\"https://colab.research.google.com/assets/colab-badge.svg\" alt=\"Open In Colab\"/></a>"
      ]
    },
    {
      "cell_type": "code",
      "execution_count": null,
      "metadata": {
        "id": "NjL-uBFn5Mei"
      },
      "outputs": [],
      "source": [
        "import pandas as pd\n",
        "import numpy as np\n",
        "import matplotlib.pyplot as plt\n",
        "import matplotlib.patches as patches\n",
        "import seaborn as sns"
      ]
    },
    {
      "cell_type": "code",
      "source": [
        "data = pd.read_csv ('/content/Amazon Sales data (1).csv')"
      ],
      "metadata": {
        "id": "KXf1b6yy5hpO"
      },
      "execution_count": null,
      "outputs": []
    },
    {
      "cell_type": "code",
      "source": [
        "data.head()"
      ],
      "metadata": {
        "id": "gwTpq5Lmjpr0"
      },
      "execution_count": null,
      "outputs": []
    },
    {
      "cell_type": "code",
      "source": [
        "data.shape"
      ],
      "metadata": {
        "colab": {
          "base_uri": "https://localhost:8080/"
        },
        "id": "Cbsf6Fjwj1wg",
        "outputId": "d06f2b61-c4fe-4dd0-f675-6123898c4d10"
      },
      "execution_count": null,
      "outputs": [
        {
          "output_type": "execute_result",
          "data": {
            "text/plain": [
              "(100, 14)"
            ]
          },
          "metadata": {},
          "execution_count": 3
        }
      ]
    },
    {
      "cell_type": "code",
      "source": [
        "data.describe()"
      ],
      "metadata": {
        "id": "PidND5KakEqR",
        "colab": {
          "base_uri": "https://localhost:8080/",
          "height": 300
        },
        "outputId": "5ce6fe7b-ff61-4096-85fe-2fb55f5af00e"
      },
      "execution_count": null,
      "outputs": [
        {
          "output_type": "execute_result",
          "data": {
            "text/plain": [
              "           Order ID   Units Sold  Unit Price   Unit Cost  Total Revenue  \\\n",
              "count  1.000000e+02   100.000000  100.000000  100.000000   1.000000e+02   \n",
              "mean   5.550204e+08  5128.710000  276.761300  191.048000   1.373488e+06   \n",
              "std    2.606153e+08  2794.484562  235.592241  188.208181   1.460029e+06   \n",
              "min    1.146066e+08   124.000000    9.330000    6.920000   4.870260e+03   \n",
              "25%    3.389225e+08  2836.250000   81.730000   35.840000   2.687212e+05   \n",
              "50%    5.577086e+08  5382.500000  179.880000  107.275000   7.523144e+05   \n",
              "75%    7.907551e+08  7369.000000  437.200000  263.330000   2.212045e+06   \n",
              "max    9.940222e+08  9925.000000  668.270000  524.960000   5.997055e+06   \n",
              "\n",
              "         Total Cost  Total Profit  \n",
              "count  1.000000e+02  1.000000e+02  \n",
              "mean   9.318057e+05  4.416820e+05  \n",
              "std    1.083938e+06  4.385379e+05  \n",
              "min    3.612240e+03  1.258020e+03  \n",
              "25%    1.688680e+05  1.214436e+05  \n",
              "50%    3.635664e+05  2.907680e+05  \n",
              "75%    1.613870e+06  6.358288e+05  \n",
              "max    4.509794e+06  1.719922e+06  "
            ],
            "text/html": [
              "\n",
              "  <div id=\"df-5d46c09a-8c48-4be6-99fa-0ff47f337e8a\" class=\"colab-df-container\">\n",
              "    <div>\n",
              "<style scoped>\n",
              "    .dataframe tbody tr th:only-of-type {\n",
              "        vertical-align: middle;\n",
              "    }\n",
              "\n",
              "    .dataframe tbody tr th {\n",
              "        vertical-align: top;\n",
              "    }\n",
              "\n",
              "    .dataframe thead th {\n",
              "        text-align: right;\n",
              "    }\n",
              "</style>\n",
              "<table border=\"1\" class=\"dataframe\">\n",
              "  <thead>\n",
              "    <tr style=\"text-align: right;\">\n",
              "      <th></th>\n",
              "      <th>Order ID</th>\n",
              "      <th>Units Sold</th>\n",
              "      <th>Unit Price</th>\n",
              "      <th>Unit Cost</th>\n",
              "      <th>Total Revenue</th>\n",
              "      <th>Total Cost</th>\n",
              "      <th>Total Profit</th>\n",
              "    </tr>\n",
              "  </thead>\n",
              "  <tbody>\n",
              "    <tr>\n",
              "      <th>count</th>\n",
              "      <td>1.000000e+02</td>\n",
              "      <td>100.000000</td>\n",
              "      <td>100.000000</td>\n",
              "      <td>100.000000</td>\n",
              "      <td>1.000000e+02</td>\n",
              "      <td>1.000000e+02</td>\n",
              "      <td>1.000000e+02</td>\n",
              "    </tr>\n",
              "    <tr>\n",
              "      <th>mean</th>\n",
              "      <td>5.550204e+08</td>\n",
              "      <td>5128.710000</td>\n",
              "      <td>276.761300</td>\n",
              "      <td>191.048000</td>\n",
              "      <td>1.373488e+06</td>\n",
              "      <td>9.318057e+05</td>\n",
              "      <td>4.416820e+05</td>\n",
              "    </tr>\n",
              "    <tr>\n",
              "      <th>std</th>\n",
              "      <td>2.606153e+08</td>\n",
              "      <td>2794.484562</td>\n",
              "      <td>235.592241</td>\n",
              "      <td>188.208181</td>\n",
              "      <td>1.460029e+06</td>\n",
              "      <td>1.083938e+06</td>\n",
              "      <td>4.385379e+05</td>\n",
              "    </tr>\n",
              "    <tr>\n",
              "      <th>min</th>\n",
              "      <td>1.146066e+08</td>\n",
              "      <td>124.000000</td>\n",
              "      <td>9.330000</td>\n",
              "      <td>6.920000</td>\n",
              "      <td>4.870260e+03</td>\n",
              "      <td>3.612240e+03</td>\n",
              "      <td>1.258020e+03</td>\n",
              "    </tr>\n",
              "    <tr>\n",
              "      <th>25%</th>\n",
              "      <td>3.389225e+08</td>\n",
              "      <td>2836.250000</td>\n",
              "      <td>81.730000</td>\n",
              "      <td>35.840000</td>\n",
              "      <td>2.687212e+05</td>\n",
              "      <td>1.688680e+05</td>\n",
              "      <td>1.214436e+05</td>\n",
              "    </tr>\n",
              "    <tr>\n",
              "      <th>50%</th>\n",
              "      <td>5.577086e+08</td>\n",
              "      <td>5382.500000</td>\n",
              "      <td>179.880000</td>\n",
              "      <td>107.275000</td>\n",
              "      <td>7.523144e+05</td>\n",
              "      <td>3.635664e+05</td>\n",
              "      <td>2.907680e+05</td>\n",
              "    </tr>\n",
              "    <tr>\n",
              "      <th>75%</th>\n",
              "      <td>7.907551e+08</td>\n",
              "      <td>7369.000000</td>\n",
              "      <td>437.200000</td>\n",
              "      <td>263.330000</td>\n",
              "      <td>2.212045e+06</td>\n",
              "      <td>1.613870e+06</td>\n",
              "      <td>6.358288e+05</td>\n",
              "    </tr>\n",
              "    <tr>\n",
              "      <th>max</th>\n",
              "      <td>9.940222e+08</td>\n",
              "      <td>9925.000000</td>\n",
              "      <td>668.270000</td>\n",
              "      <td>524.960000</td>\n",
              "      <td>5.997055e+06</td>\n",
              "      <td>4.509794e+06</td>\n",
              "      <td>1.719922e+06</td>\n",
              "    </tr>\n",
              "  </tbody>\n",
              "</table>\n",
              "</div>\n",
              "    <div class=\"colab-df-buttons\">\n",
              "\n",
              "  <div class=\"colab-df-container\">\n",
              "    <button class=\"colab-df-convert\" onclick=\"convertToInteractive('df-5d46c09a-8c48-4be6-99fa-0ff47f337e8a')\"\n",
              "            title=\"Convert this dataframe to an interactive table.\"\n",
              "            style=\"display:none;\">\n",
              "\n",
              "  <svg xmlns=\"http://www.w3.org/2000/svg\" height=\"24px\" viewBox=\"0 -960 960 960\">\n",
              "    <path d=\"M120-120v-720h720v720H120Zm60-500h600v-160H180v160Zm220 220h160v-160H400v160Zm0 220h160v-160H400v160ZM180-400h160v-160H180v160Zm440 0h160v-160H620v160ZM180-180h160v-160H180v160Zm440 0h160v-160H620v160Z\"/>\n",
              "  </svg>\n",
              "    </button>\n",
              "\n",
              "  <style>\n",
              "    .colab-df-container {\n",
              "      display:flex;\n",
              "      gap: 12px;\n",
              "    }\n",
              "\n",
              "    .colab-df-convert {\n",
              "      background-color: #E8F0FE;\n",
              "      border: none;\n",
              "      border-radius: 50%;\n",
              "      cursor: pointer;\n",
              "      display: none;\n",
              "      fill: #1967D2;\n",
              "      height: 32px;\n",
              "      padding: 0 0 0 0;\n",
              "      width: 32px;\n",
              "    }\n",
              "\n",
              "    .colab-df-convert:hover {\n",
              "      background-color: #E2EBFA;\n",
              "      box-shadow: 0px 1px 2px rgba(60, 64, 67, 0.3), 0px 1px 3px 1px rgba(60, 64, 67, 0.15);\n",
              "      fill: #174EA6;\n",
              "    }\n",
              "\n",
              "    .colab-df-buttons div {\n",
              "      margin-bottom: 4px;\n",
              "    }\n",
              "\n",
              "    [theme=dark] .colab-df-convert {\n",
              "      background-color: #3B4455;\n",
              "      fill: #D2E3FC;\n",
              "    }\n",
              "\n",
              "    [theme=dark] .colab-df-convert:hover {\n",
              "      background-color: #434B5C;\n",
              "      box-shadow: 0px 1px 3px 1px rgba(0, 0, 0, 0.15);\n",
              "      filter: drop-shadow(0px 1px 2px rgba(0, 0, 0, 0.3));\n",
              "      fill: #FFFFFF;\n",
              "    }\n",
              "  </style>\n",
              "\n",
              "    <script>\n",
              "      const buttonEl =\n",
              "        document.querySelector('#df-5d46c09a-8c48-4be6-99fa-0ff47f337e8a button.colab-df-convert');\n",
              "      buttonEl.style.display =\n",
              "        google.colab.kernel.accessAllowed ? 'block' : 'none';\n",
              "\n",
              "      async function convertToInteractive(key) {\n",
              "        const element = document.querySelector('#df-5d46c09a-8c48-4be6-99fa-0ff47f337e8a');\n",
              "        const dataTable =\n",
              "          await google.colab.kernel.invokeFunction('convertToInteractive',\n",
              "                                                    [key], {});\n",
              "        if (!dataTable) return;\n",
              "\n",
              "        const docLinkHtml = 'Like what you see? Visit the ' +\n",
              "          '<a target=\"_blank\" href=https://colab.research.google.com/notebooks/data_table.ipynb>data table notebook</a>'\n",
              "          + ' to learn more about interactive tables.';\n",
              "        element.innerHTML = '';\n",
              "        dataTable['output_type'] = 'display_data';\n",
              "        await google.colab.output.renderOutput(dataTable, element);\n",
              "        const docLink = document.createElement('div');\n",
              "        docLink.innerHTML = docLinkHtml;\n",
              "        element.appendChild(docLink);\n",
              "      }\n",
              "    </script>\n",
              "  </div>\n",
              "\n",
              "\n",
              "<div id=\"df-702c6b92-84ef-447e-aaa3-75fc5f37da97\">\n",
              "  <button class=\"colab-df-quickchart\" onclick=\"quickchart('df-702c6b92-84ef-447e-aaa3-75fc5f37da97')\"\n",
              "            title=\"Suggest charts\"\n",
              "            style=\"display:none;\">\n",
              "\n",
              "<svg xmlns=\"http://www.w3.org/2000/svg\" height=\"24px\"viewBox=\"0 0 24 24\"\n",
              "     width=\"24px\">\n",
              "    <g>\n",
              "        <path d=\"M19 3H5c-1.1 0-2 .9-2 2v14c0 1.1.9 2 2 2h14c1.1 0 2-.9 2-2V5c0-1.1-.9-2-2-2zM9 17H7v-7h2v7zm4 0h-2V7h2v10zm4 0h-2v-4h2v4z\"/>\n",
              "    </g>\n",
              "</svg>\n",
              "  </button>\n",
              "\n",
              "<style>\n",
              "  .colab-df-quickchart {\n",
              "      --bg-color: #E8F0FE;\n",
              "      --fill-color: #1967D2;\n",
              "      --hover-bg-color: #E2EBFA;\n",
              "      --hover-fill-color: #174EA6;\n",
              "      --disabled-fill-color: #AAA;\n",
              "      --disabled-bg-color: #DDD;\n",
              "  }\n",
              "\n",
              "  [theme=dark] .colab-df-quickchart {\n",
              "      --bg-color: #3B4455;\n",
              "      --fill-color: #D2E3FC;\n",
              "      --hover-bg-color: #434B5C;\n",
              "      --hover-fill-color: #FFFFFF;\n",
              "      --disabled-bg-color: #3B4455;\n",
              "      --disabled-fill-color: #666;\n",
              "  }\n",
              "\n",
              "  .colab-df-quickchart {\n",
              "    background-color: var(--bg-color);\n",
              "    border: none;\n",
              "    border-radius: 50%;\n",
              "    cursor: pointer;\n",
              "    display: none;\n",
              "    fill: var(--fill-color);\n",
              "    height: 32px;\n",
              "    padding: 0;\n",
              "    width: 32px;\n",
              "  }\n",
              "\n",
              "  .colab-df-quickchart:hover {\n",
              "    background-color: var(--hover-bg-color);\n",
              "    box-shadow: 0 1px 2px rgba(60, 64, 67, 0.3), 0 1px 3px 1px rgba(60, 64, 67, 0.15);\n",
              "    fill: var(--button-hover-fill-color);\n",
              "  }\n",
              "\n",
              "  .colab-df-quickchart-complete:disabled,\n",
              "  .colab-df-quickchart-complete:disabled:hover {\n",
              "    background-color: var(--disabled-bg-color);\n",
              "    fill: var(--disabled-fill-color);\n",
              "    box-shadow: none;\n",
              "  }\n",
              "\n",
              "  .colab-df-spinner {\n",
              "    border: 2px solid var(--fill-color);\n",
              "    border-color: transparent;\n",
              "    border-bottom-color: var(--fill-color);\n",
              "    animation:\n",
              "      spin 1s steps(1) infinite;\n",
              "  }\n",
              "\n",
              "  @keyframes spin {\n",
              "    0% {\n",
              "      border-color: transparent;\n",
              "      border-bottom-color: var(--fill-color);\n",
              "      border-left-color: var(--fill-color);\n",
              "    }\n",
              "    20% {\n",
              "      border-color: transparent;\n",
              "      border-left-color: var(--fill-color);\n",
              "      border-top-color: var(--fill-color);\n",
              "    }\n",
              "    30% {\n",
              "      border-color: transparent;\n",
              "      border-left-color: var(--fill-color);\n",
              "      border-top-color: var(--fill-color);\n",
              "      border-right-color: var(--fill-color);\n",
              "    }\n",
              "    40% {\n",
              "      border-color: transparent;\n",
              "      border-right-color: var(--fill-color);\n",
              "      border-top-color: var(--fill-color);\n",
              "    }\n",
              "    60% {\n",
              "      border-color: transparent;\n",
              "      border-right-color: var(--fill-color);\n",
              "    }\n",
              "    80% {\n",
              "      border-color: transparent;\n",
              "      border-right-color: var(--fill-color);\n",
              "      border-bottom-color: var(--fill-color);\n",
              "    }\n",
              "    90% {\n",
              "      border-color: transparent;\n",
              "      border-bottom-color: var(--fill-color);\n",
              "    }\n",
              "  }\n",
              "</style>\n",
              "\n",
              "  <script>\n",
              "    async function quickchart(key) {\n",
              "      const quickchartButtonEl =\n",
              "        document.querySelector('#' + key + ' button');\n",
              "      quickchartButtonEl.disabled = true;  // To prevent multiple clicks.\n",
              "      quickchartButtonEl.classList.add('colab-df-spinner');\n",
              "      try {\n",
              "        const charts = await google.colab.kernel.invokeFunction(\n",
              "            'suggestCharts', [key], {});\n",
              "      } catch (error) {\n",
              "        console.error('Error during call to suggestCharts:', error);\n",
              "      }\n",
              "      quickchartButtonEl.classList.remove('colab-df-spinner');\n",
              "      quickchartButtonEl.classList.add('colab-df-quickchart-complete');\n",
              "    }\n",
              "    (() => {\n",
              "      let quickchartButtonEl =\n",
              "        document.querySelector('#df-702c6b92-84ef-447e-aaa3-75fc5f37da97 button');\n",
              "      quickchartButtonEl.style.display =\n",
              "        google.colab.kernel.accessAllowed ? 'block' : 'none';\n",
              "    })();\n",
              "  </script>\n",
              "</div>\n",
              "\n",
              "    </div>\n",
              "  </div>\n"
            ]
          },
          "metadata": {},
          "execution_count": 63
        }
      ]
    },
    {
      "cell_type": "code",
      "source": [
        "coloumns = list(data)\n",
        "coloumns"
      ],
      "metadata": {
        "id": "WFwKOfqUkvHC"
      },
      "execution_count": null,
      "outputs": []
    },
    {
      "cell_type": "code",
      "source": [
        "data.isnull().sum()"
      ],
      "metadata": {
        "id": "AOniziDwlseM"
      },
      "execution_count": null,
      "outputs": []
    },
    {
      "cell_type": "code",
      "source": [
        "plt.figure(figsize = (10,6))\n",
        "\n",
        "sns.boxplot(data=data, y='Area')\n",
        "plt.show()"
      ],
      "metadata": {
        "id": "JUSSZpnrp0H2"
      },
      "execution_count": null,
      "outputs": []
    },
    {
      "cell_type": "code",
      "source": [
        "data.info()"
      ],
      "metadata": {
        "colab": {
          "base_uri": "https://localhost:8080/"
        },
        "id": "AyAcjKolBe-4",
        "outputId": "288d1549-9895-4edc-fed3-689b32e63b64"
      },
      "execution_count": null,
      "outputs": [
        {
          "output_type": "stream",
          "name": "stdout",
          "text": [
            "<class 'pandas.core.frame.DataFrame'>\n",
            "RangeIndex: 100 entries, 0 to 99\n",
            "Data columns (total 14 columns):\n",
            " #   Column          Non-Null Count  Dtype  \n",
            "---  ------          --------------  -----  \n",
            " 0   Region          100 non-null    object \n",
            " 1   Country         100 non-null    object \n",
            " 2   Item Type       100 non-null    object \n",
            " 3   Sales Channel   100 non-null    object \n",
            " 4   Order Priority  100 non-null    object \n",
            " 5   Order Date      100 non-null    object \n",
            " 6   Order ID        100 non-null    int64  \n",
            " 7   Ship Date       100 non-null    object \n",
            " 8   Units Sold      100 non-null    int64  \n",
            " 9   Unit Price      100 non-null    float64\n",
            " 10  Unit Cost       100 non-null    float64\n",
            " 11  Total Revenue   100 non-null    float64\n",
            " 12  Total Cost      100 non-null    float64\n",
            " 13  Total Profit    100 non-null    float64\n",
            "dtypes: float64(5), int64(2), object(7)\n",
            "memory usage: 11.1+ KB\n"
          ]
        }
      ]
    },
    {
      "cell_type": "code",
      "source": [
        "#Heatmap showing correlation between elements in the dataset\n",
        "new = data.drop(columns=['Region', 'Country','Sales Channel','Order Priority', 'Order Date','Order ID','Ship Date'], axis = 1).set_index('Item Type')\n",
        "new.head()\n",
        "plt.figure(figsize = (10,6))\n",
        "sns.heatmap(new.corr(), annot = True, linewidth = 1)\n",
        "plt.title(\"Heatmap showing correlation between elements in the dataset\")\n",
        "plt.show()"
      ],
      "metadata": {
        "id": "mOd8Tmb5Ciqv"
      },
      "execution_count": null,
      "outputs": []
    },
    {
      "cell_type": "code",
      "source": [
        "#Time series graph showing total revenue yearly analysis\n",
        "plt.figure(figsize = (10,6))\n",
        "data['date'] = pd.to_datetime(data['Order Date'])\n",
        "data['year'] = data['date'].dt.year\n",
        "yearly_analysis = data.groupby('year')['Total Revenue'].sum()\n",
        "yearly_analysis.plot(kind='line', color='brown')\n",
        "plt.title(\"Yearly Analysis of Total Revenue\")\n",
        "plt.xlabel('Years')\n",
        "plt.ylabel('Total Revenue')\n",
        "plt.show"
      ],
      "metadata": {
        "id": "VXPRrsuxi3Ch"
      },
      "execution_count": null,
      "outputs": []
    },
    {
      "cell_type": "code",
      "source": [
        "#Time series graph showing total profit yearly analysis\n",
        "plt.figure(figsize = (10,6))\n",
        "data['date'] = pd.to_datetime(data['Order Date'])\n",
        "data['year'] = data['date'].dt.year\n",
        "yearly_analysis = data.groupby('year')['Total Profit'].sum()\n",
        "yearly_analysis.plot(kind='line', color='gray')\n",
        "plt.title(\"Yearly Analysis of Total Profit\")\n",
        "plt.xlabel('Years')\n",
        "plt.ylabel('Total Profit')\n",
        "plt.show"
      ],
      "metadata": {
        "id": "ojRQFYXIAVJm"
      },
      "execution_count": null,
      "outputs": []
    },
    {
      "cell_type": "code",
      "source": [
        "#Time series graph showing total Cost yearly analysis\n",
        "plt.figure(figsize = (10,6))\n",
        "data['date'] = pd.to_datetime(data['Order Date'])\n",
        "data['year'] = data['date'].dt.year\n",
        "yearly_analysis = data.groupby('year')['Total Cost'].sum()\n",
        "yearly_analysis.plot(kind='line', color='gold')\n",
        "plt.title(\"Yearly Analysis of Total Cost\")\n",
        "plt.xlabel('Years')\n",
        "plt.ylabel('Total Cost')\n",
        "plt.show"
      ],
      "metadata": {
        "id": "Av59hFIpAnXO"
      },
      "execution_count": null,
      "outputs": []
    },
    {
      "cell_type": "code",
      "source": [
        "#Bar Graph for items sold on the basis of sales channel\n",
        "plt.figure(figsize = (15,6))\n",
        "sns.barplot(data=data, x=data['Item Type'], y =data['Units Sold'], hue=data['Sales Channel'], errorbar = None)\n",
        "plt.title(\"Analysis of items sold on the basis of sales channel\")\n",
        "plt.xlabel('ITEM TYPE')\n",
        "plt.ylabel('COUNT')\n",
        "plt.show()\n"
      ],
      "metadata": {
        "id": "PrJ95jgAAxzA"
      },
      "execution_count": null,
      "outputs": []
    },
    {
      "cell_type": "code",
      "source": [
        "#Bar Graph for items sold on the basis of order priority\n",
        "plt.figure(figsize = (15,6))\n",
        "sns.barplot(data=data, x=data['Item Type'], y =data['Units Sold'], hue=data['Order Priority'], errorbar = None)\n",
        "plt.title(\"Analysis of items sold on the basis of order priority\")\n",
        "plt.xlabel('ITEM TYPE')\n",
        "plt.ylabel('COUNT')\n",
        "plt.show()\n"
      ],
      "metadata": {
        "id": "CK1NvRsUEd-X"
      },
      "execution_count": null,
      "outputs": []
    },
    {
      "cell_type": "code",
      "source": [
        "#Pie Chart for region wise sales\n",
        "plt.figure(figsize = (10,6))\n",
        "sums = data.groupby(data['Region'])['Units Sold'].sum()\n",
        "plt.pie(sums, labels=sums.index, autopct='%.2f')\n",
        "plt.title(\"REGION WISE SALES\")\n",
        "plt.show"
      ],
      "metadata": {
        "id": "spvmtZkADfow"
      },
      "execution_count": null,
      "outputs": []
    },
    {
      "cell_type": "code",
      "source": [
        "#Pie Chart for item type sales\n",
        "plt.figure(figsize = (10,6))\n",
        "sums = data.groupby(data['Item Type'])['Units Sold'].sum()\n",
        "plt.pie(sums, labels=sums.index, autopct='%.2f')\n",
        "plt.title(\"ITEM TYPE SALES\")\n",
        "plt.show"
      ],
      "metadata": {
        "id": "G7B7W6OBGCdF"
      },
      "execution_count": null,
      "outputs": []
    },
    {
      "cell_type": "code",
      "source": [
        "#Histogram of Units Sold\n",
        "plt.figure(figsize = (10,6))\n",
        "median = round(data['Units Sold'].median())\n",
        "mean = round(data['Units Sold'].mean())\n",
        "\n",
        "sns.histplot(data=data, x='Units Sold', color='orange', edgecolor='linen', alpha =0.5, bins=5)\n",
        "plt.title(\"Histogram of Units Sold\")\n",
        "plt.xlabel('Units Sold')\n",
        "plt.ylabel('Count')\n",
        "plt.vlines(mean, ymin = 0, ymax = 30, color ='red', label=\"Mean\")\n",
        "plt.vlines(median, ymin = 0, ymax = 30, color ='green', label=\"Median\")\n",
        "plt.legend()\n",
        "plt.show()"
      ],
      "metadata": {
        "id": "W3Ul9zfdHKWL"
      },
      "execution_count": null,
      "outputs": []
    },
    {
      "cell_type": "code",
      "source": [
        "#Distance plot of Unit Price\n",
        "plt.figure(figsize = (10,6))\n",
        "\n",
        "sns.distplot(x=data['Unit Price'], color='purple')\n",
        "plt.title(\"Histogram of Unit Price\")\n",
        "plt.xlabel('Unit Price')\n",
        "plt.ylabel('Count')\n",
        "plt.show()"
      ],
      "metadata": {
        "id": "Hpn68ePtHzWd"
      },
      "execution_count": null,
      "outputs": []
    },
    {
      "cell_type": "code",
      "source": [
        "#Distance plot of Unit Cost\n",
        "plt.figure(figsize = (10,6))\n",
        "\n",
        "sns.distplot(x=data['Unit Cost'], color='indigo')\n",
        "plt.title(\"Histogram of Unit Cost\")\n",
        "plt.xlabel('Unit Cost')\n",
        "plt.ylabel('Count')\n",
        "plt.show()"
      ],
      "metadata": {
        "id": "hV8nMNkaJVH-"
      },
      "execution_count": null,
      "outputs": []
    }
  ]
}